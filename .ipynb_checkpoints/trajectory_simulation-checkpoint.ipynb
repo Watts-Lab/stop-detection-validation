{
 "cells": [
  {
   "cell_type": "code",
   "execution_count": null,
   "id": "2ee021c0",
   "metadata": {},
   "outputs": [],
   "source": [
    "# Install a pip package in the current Jupyter kernel\n",
    "\n",
    "import sys\n",
    "!{sys.executable} -m pip install git+https://github.com/Watts-Lab/daphme@bucephalus#egg=daphme\n",
    "\n",
    "#python3 -m pip install \"git+https://github.com/Watts-Lab/daphme@bucephalus#egg=daphme\""
   ]
  },
  {
   "cell_type": "code",
   "execution_count": null,
   "id": "78db4e4f",
   "metadata": {},
   "outputs": [],
   "source": [
    "import daphme as dm"
   ]
  },
  {
   "cell_type": "code",
   "execution_count": null,
   "id": "126740e1",
   "metadata": {},
   "outputs": [],
   "source": []
  }
 ],
 "metadata": {
  "kernelspec": {
   "display_name": "conda_python3",
   "language": "python",
   "name": "conda_python3"
  },
  "language_info": {
   "codemirror_mode": {
    "name": "ipython",
    "version": 3
   },
   "file_extension": ".py",
   "mimetype": "text/x-python",
   "name": "python",
   "nbconvert_exporter": "python",
   "pygments_lexer": "ipython3",
   "version": "3.6.13"
  }
 },
 "nbformat": 4,
 "nbformat_minor": 5
}
